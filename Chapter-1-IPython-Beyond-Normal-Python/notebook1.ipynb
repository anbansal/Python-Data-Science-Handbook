{
 "cells": [
  {
   "cell_type": "code",
   "execution_count": 2,
   "metadata": {},
   "outputs": [],
   "source": [
    "len?"
   ]
  },
  {
   "cell_type": "code",
   "execution_count": 3,
   "metadata": {},
   "outputs": [],
   "source": [
    "L = list()"
   ]
  },
  {
   "cell_type": "code",
   "execution_count": 6,
   "metadata": {},
   "outputs": [],
   "source": [
    "*Warning?"
   ]
  },
  {
   "cell_type": "code",
   "execution_count": 7,
   "metadata": {},
   "outputs": [
    {
     "data": {
      "text/plain": [
       "2"
      ]
     },
     "execution_count": 7,
     "metadata": {},
     "output_type": "execute_result"
    }
   ],
   "source": [
    "1+1"
   ]
  },
  {
   "cell_type": "code",
   "execution_count": 10,
   "metadata": {},
   "outputs": [],
   "source": [
    "import string"
   ]
  },
  {
   "cell_type": "code",
   "execution_count": null,
   "metadata": {},
   "outputs": [],
   "source": []
  },
  {
   "cell_type": "code",
   "execution_count": 12,
   "metadata": {},
   "outputs": [
    {
     "ename": "NameError",
     "evalue": "name 'func2' is not defined",
     "output_type": "error",
     "traceback": [
      "\u001b[0;31m---------------------------------------------------------------------------\u001b[0m",
      "\u001b[0;31mNameError\u001b[0m                                 Traceback (most recent call last)",
      "\u001b[0;32m<ipython-input-12-7cb498ea7ed1>\u001b[0m in \u001b[0;36m<module>\u001b[0;34m\u001b[0m\n\u001b[0;32m----> 1\u001b[0;31m \u001b[0mfunc2\u001b[0m\u001b[0;34m(\u001b[0m\u001b[0;36m1\u001b[0m\u001b[0;34m)\u001b[0m\u001b[0;34m\u001b[0m\u001b[0;34m\u001b[0m\u001b[0m\n\u001b[0m",
      "\u001b[0;31mNameError\u001b[0m: name 'func2' is not defined"
     ]
    }
   ],
   "source": [
    "func2(1)"
   ]
  },
  {
   "cell_type": "code",
   "execution_count": 13,
   "metadata": {},
   "outputs": [],
   "source": [
    "def func1(a, b):\n",
    "    return a / b\n",
    "\n",
    "def func2(x):\n",
    "    a = x\n",
    "    b = x - 1\n",
    "    return func1(a, b)"
   ]
  },
  {
   "cell_type": "code",
   "execution_count": 14,
   "metadata": {},
   "outputs": [
    {
     "ename": "ZeroDivisionError",
     "evalue": "division by zero",
     "output_type": "error",
     "traceback": [
      "\u001b[0;31m---------------------------------------------------------------------------\u001b[0m",
      "\u001b[0;31mZeroDivisionError\u001b[0m                         Traceback (most recent call last)",
      "\u001b[0;32m<ipython-input-14-7cb498ea7ed1>\u001b[0m in \u001b[0;36m<module>\u001b[0;34m\u001b[0m\n\u001b[0;32m----> 1\u001b[0;31m \u001b[0mfunc2\u001b[0m\u001b[0;34m(\u001b[0m\u001b[0;36m1\u001b[0m\u001b[0;34m)\u001b[0m\u001b[0;34m\u001b[0m\u001b[0;34m\u001b[0m\u001b[0m\n\u001b[0m",
      "\u001b[0;32m<ipython-input-13-586ccabd0db3>\u001b[0m in \u001b[0;36mfunc2\u001b[0;34m(x)\u001b[0m\n\u001b[1;32m      5\u001b[0m     \u001b[0ma\u001b[0m \u001b[0;34m=\u001b[0m \u001b[0mx\u001b[0m\u001b[0;34m\u001b[0m\u001b[0;34m\u001b[0m\u001b[0m\n\u001b[1;32m      6\u001b[0m     \u001b[0mb\u001b[0m \u001b[0;34m=\u001b[0m \u001b[0mx\u001b[0m \u001b[0;34m-\u001b[0m \u001b[0;36m1\u001b[0m\u001b[0;34m\u001b[0m\u001b[0;34m\u001b[0m\u001b[0m\n\u001b[0;32m----> 7\u001b[0;31m     \u001b[0;32mreturn\u001b[0m \u001b[0mfunc1\u001b[0m\u001b[0;34m(\u001b[0m\u001b[0ma\u001b[0m\u001b[0;34m,\u001b[0m \u001b[0mb\u001b[0m\u001b[0;34m)\u001b[0m\u001b[0;34m\u001b[0m\u001b[0;34m\u001b[0m\u001b[0m\n\u001b[0m",
      "\u001b[0;32m<ipython-input-13-586ccabd0db3>\u001b[0m in \u001b[0;36mfunc1\u001b[0;34m(a, b)\u001b[0m\n\u001b[1;32m      1\u001b[0m \u001b[0;32mdef\u001b[0m \u001b[0mfunc1\u001b[0m\u001b[0;34m(\u001b[0m\u001b[0ma\u001b[0m\u001b[0;34m,\u001b[0m \u001b[0mb\u001b[0m\u001b[0;34m)\u001b[0m\u001b[0;34m:\u001b[0m\u001b[0;34m\u001b[0m\u001b[0;34m\u001b[0m\u001b[0m\n\u001b[0;32m----> 2\u001b[0;31m     \u001b[0;32mreturn\u001b[0m \u001b[0ma\u001b[0m \u001b[0;34m/\u001b[0m \u001b[0mb\u001b[0m\u001b[0;34m\u001b[0m\u001b[0;34m\u001b[0m\u001b[0m\n\u001b[0m\u001b[1;32m      3\u001b[0m \u001b[0;34m\u001b[0m\u001b[0m\n\u001b[1;32m      4\u001b[0m \u001b[0;32mdef\u001b[0m \u001b[0mfunc2\u001b[0m\u001b[0;34m(\u001b[0m\u001b[0mx\u001b[0m\u001b[0;34m)\u001b[0m\u001b[0;34m:\u001b[0m\u001b[0;34m\u001b[0m\u001b[0;34m\u001b[0m\u001b[0m\n\u001b[1;32m      5\u001b[0m     \u001b[0ma\u001b[0m \u001b[0;34m=\u001b[0m \u001b[0mx\u001b[0m\u001b[0;34m\u001b[0m\u001b[0;34m\u001b[0m\u001b[0m\n",
      "\u001b[0;31mZeroDivisionError\u001b[0m: division by zero"
     ]
    }
   ],
   "source": [
    "func2(1)"
   ]
  },
  {
   "cell_type": "code",
   "execution_count": 15,
   "metadata": {},
   "outputs": [
    {
     "name": "stdout",
     "output_type": "stream",
     "text": [
      "> \u001b[0;32m<ipython-input-13-586ccabd0db3>\u001b[0m(2)\u001b[0;36mfunc1\u001b[0;34m()\u001b[0m\n",
      "\u001b[0;32m      1 \u001b[0;31m\u001b[0;32mdef\u001b[0m \u001b[0mfunc1\u001b[0m\u001b[0;34m(\u001b[0m\u001b[0ma\u001b[0m\u001b[0;34m,\u001b[0m \u001b[0mb\u001b[0m\u001b[0;34m)\u001b[0m\u001b[0;34m:\u001b[0m\u001b[0;34m\u001b[0m\u001b[0;34m\u001b[0m\u001b[0m\n",
      "\u001b[0m\u001b[0;32m----> 2 \u001b[0;31m    \u001b[0;32mreturn\u001b[0m \u001b[0ma\u001b[0m \u001b[0;34m/\u001b[0m \u001b[0mb\u001b[0m\u001b[0;34m\u001b[0m\u001b[0;34m\u001b[0m\u001b[0m\n",
      "\u001b[0m\u001b[0;32m      3 \u001b[0;31m\u001b[0;34m\u001b[0m\u001b[0m\n",
      "\u001b[0m\u001b[0;32m      4 \u001b[0;31m\u001b[0;32mdef\u001b[0m \u001b[0mfunc2\u001b[0m\u001b[0;34m(\u001b[0m\u001b[0mx\u001b[0m\u001b[0;34m)\u001b[0m\u001b[0;34m:\u001b[0m\u001b[0;34m\u001b[0m\u001b[0;34m\u001b[0m\u001b[0m\n",
      "\u001b[0m\u001b[0;32m      5 \u001b[0;31m    \u001b[0ma\u001b[0m \u001b[0;34m=\u001b[0m \u001b[0mx\u001b[0m\u001b[0;34m\u001b[0m\u001b[0;34m\u001b[0m\u001b[0m\n",
      "\u001b[0m\n",
      "ipdb> print(a)\n",
      "1\n",
      "ipdb> print(b)\n",
      "0\n",
      "ipdb> up\n",
      "> \u001b[0;32m<ipython-input-13-586ccabd0db3>\u001b[0m(7)\u001b[0;36mfunc2\u001b[0;34m()\u001b[0m\n",
      "\u001b[0;32m      3 \u001b[0;31m\u001b[0;34m\u001b[0m\u001b[0m\n",
      "\u001b[0m\u001b[0;32m      4 \u001b[0;31m\u001b[0;32mdef\u001b[0m \u001b[0mfunc2\u001b[0m\u001b[0;34m(\u001b[0m\u001b[0mx\u001b[0m\u001b[0;34m)\u001b[0m\u001b[0;34m:\u001b[0m\u001b[0;34m\u001b[0m\u001b[0;34m\u001b[0m\u001b[0m\n",
      "\u001b[0m\u001b[0;32m      5 \u001b[0;31m    \u001b[0ma\u001b[0m \u001b[0;34m=\u001b[0m \u001b[0mx\u001b[0m\u001b[0;34m\u001b[0m\u001b[0;34m\u001b[0m\u001b[0m\n",
      "\u001b[0m\u001b[0;32m      6 \u001b[0;31m    \u001b[0mb\u001b[0m \u001b[0;34m=\u001b[0m \u001b[0mx\u001b[0m \u001b[0;34m-\u001b[0m \u001b[0;36m1\u001b[0m\u001b[0;34m\u001b[0m\u001b[0;34m\u001b[0m\u001b[0m\n",
      "\u001b[0m\u001b[0;32m----> 7 \u001b[0;31m    \u001b[0;32mreturn\u001b[0m \u001b[0mfunc1\u001b[0m\u001b[0;34m(\u001b[0m\u001b[0ma\u001b[0m\u001b[0;34m,\u001b[0m \u001b[0mb\u001b[0m\u001b[0;34m)\u001b[0m\u001b[0;34m\u001b[0m\u001b[0;34m\u001b[0m\u001b[0m\n",
      "\u001b[0m\n",
      "ipdb> up\n",
      "> \u001b[0;32m<ipython-input-14-7cb498ea7ed1>\u001b[0m(1)\u001b[0;36m<module>\u001b[0;34m()\u001b[0m\n",
      "\u001b[0;32m----> 1 \u001b[0;31m\u001b[0mfunc2\u001b[0m\u001b[0;34m(\u001b[0m\u001b[0;36m1\u001b[0m\u001b[0;34m)\u001b[0m\u001b[0;34m\u001b[0m\u001b[0;34m\u001b[0m\u001b[0m\n",
      "\u001b[0m\n",
      "ipdb> up\n",
      "*** Oldest frame\n",
      "ipdb> down\n",
      "> \u001b[0;32m<ipython-input-13-586ccabd0db3>\u001b[0m(7)\u001b[0;36mfunc2\u001b[0;34m()\u001b[0m\n",
      "\u001b[0;32m      3 \u001b[0;31m\u001b[0;34m\u001b[0m\u001b[0m\n",
      "\u001b[0m\u001b[0;32m      4 \u001b[0;31m\u001b[0;32mdef\u001b[0m \u001b[0mfunc2\u001b[0m\u001b[0;34m(\u001b[0m\u001b[0mx\u001b[0m\u001b[0;34m)\u001b[0m\u001b[0;34m:\u001b[0m\u001b[0;34m\u001b[0m\u001b[0;34m\u001b[0m\u001b[0m\n",
      "\u001b[0m\u001b[0;32m      5 \u001b[0;31m    \u001b[0ma\u001b[0m \u001b[0;34m=\u001b[0m \u001b[0mx\u001b[0m\u001b[0;34m\u001b[0m\u001b[0;34m\u001b[0m\u001b[0m\n",
      "\u001b[0m\u001b[0;32m      6 \u001b[0;31m    \u001b[0mb\u001b[0m \u001b[0;34m=\u001b[0m \u001b[0mx\u001b[0m \u001b[0;34m-\u001b[0m \u001b[0;36m1\u001b[0m\u001b[0;34m\u001b[0m\u001b[0;34m\u001b[0m\u001b[0m\n",
      "\u001b[0m\u001b[0;32m----> 7 \u001b[0;31m    \u001b[0;32mreturn\u001b[0m \u001b[0mfunc1\u001b[0m\u001b[0;34m(\u001b[0m\u001b[0ma\u001b[0m\u001b[0;34m,\u001b[0m \u001b[0mb\u001b[0m\u001b[0;34m)\u001b[0m\u001b[0;34m\u001b[0m\u001b[0;34m\u001b[0m\u001b[0m\n",
      "\u001b[0m\n",
      "ipdb> down\n",
      "> \u001b[0;32m<ipython-input-13-586ccabd0db3>\u001b[0m(2)\u001b[0;36mfunc1\u001b[0;34m()\u001b[0m\n",
      "\u001b[0;32m      1 \u001b[0;31m\u001b[0;32mdef\u001b[0m \u001b[0mfunc1\u001b[0m\u001b[0;34m(\u001b[0m\u001b[0ma\u001b[0m\u001b[0;34m,\u001b[0m \u001b[0mb\u001b[0m\u001b[0;34m)\u001b[0m\u001b[0;34m:\u001b[0m\u001b[0;34m\u001b[0m\u001b[0;34m\u001b[0m\u001b[0m\n",
      "\u001b[0m\u001b[0;32m----> 2 \u001b[0;31m    \u001b[0;32mreturn\u001b[0m \u001b[0ma\u001b[0m \u001b[0;34m/\u001b[0m \u001b[0mb\u001b[0m\u001b[0;34m\u001b[0m\u001b[0;34m\u001b[0m\u001b[0m\n",
      "\u001b[0m\u001b[0;32m      3 \u001b[0;31m\u001b[0;34m\u001b[0m\u001b[0m\n",
      "\u001b[0m\u001b[0;32m      4 \u001b[0;31m\u001b[0;32mdef\u001b[0m \u001b[0mfunc2\u001b[0m\u001b[0;34m(\u001b[0m\u001b[0mx\u001b[0m\u001b[0;34m)\u001b[0m\u001b[0;34m:\u001b[0m\u001b[0;34m\u001b[0m\u001b[0;34m\u001b[0m\u001b[0m\n",
      "\u001b[0m\u001b[0;32m      5 \u001b[0;31m    \u001b[0ma\u001b[0m \u001b[0;34m=\u001b[0m \u001b[0mx\u001b[0m\u001b[0;34m\u001b[0m\u001b[0;34m\u001b[0m\u001b[0m\n",
      "\u001b[0m\n",
      "ipdb> down\n",
      "*** Newest frame\n",
      "ipdb> print(b)\n",
      "0\n",
      "ipdb> b = 2\n",
      "*** The specified object '= 2' is not a function or was not found along sys.path.\n",
      "ipdb> b = 1\n",
      "*** The specified object '= 1' is not a function or was not found along sys.path.\n",
      "ipdb> b = int(1)\n",
      "*** The specified object '= int(1)' is not a function or was not found along sys.path.\n",
      "ipdb> a/b\n",
      "a = 1\n",
      "b = 0\n",
      "ipdb> quit\n"
     ]
    }
   ],
   "source": [
    "%debug"
   ]
  },
  {
   "cell_type": "code",
   "execution_count": 16,
   "metadata": {},
   "outputs": [
    {
     "name": "stdout",
     "output_type": "stream",
     "text": [
      "On branch Chapter-1-IPython-Beyond-Normal-Python\n",
      "Your branch is ahead of 'origin/Chapter-1-IPython-Beyond-Normal-Python' by 1 commit.\n",
      "  (use \"git push\" to publish your local commits)\n",
      "\n",
      "Changes not staged for commit:\n",
      "  (use \"git add <file>...\" to update what will be committed)\n",
      "  (use \"git checkout -- <file>...\" to discard changes in working directory)\n",
      "\n",
      "\t\u001b[31mmodified:   notebook1.ipynb\u001b[m\n",
      "\n",
      "Untracked files:\n",
      "  (use \"git add <file>...\" to include in what will be committed)\n",
      "\n",
      "\t\u001b[31m.ipynb_checkpoints/\u001b[m\n",
      "\n",
      "no changes added to commit (use \"git add\" and/or \"git commit -a\")\n"
     ]
    }
   ],
   "source": [
    "!git status"
   ]
  },
  {
   "cell_type": "code",
   "execution_count": 17,
   "metadata": {},
   "outputs": [],
   "source": [
    "!git add ."
   ]
  },
  {
   "cell_type": "code",
   "execution_count": 18,
   "metadata": {},
   "outputs": [
    {
     "name": "stdout",
     "output_type": "stream",
     "text": [
      "On branch Chapter-1-IPython-Beyond-Normal-Python\r\n",
      "Your branch is ahead of 'origin/Chapter-1-IPython-Beyond-Normal-Python' by 1 commit.\r\n",
      "  (use \"git push\" to publish your local commits)\r\n",
      "\r\n",
      "Changes to be committed:\r\n",
      "  (use \"git reset HEAD <file>...\" to unstage)\r\n",
      "\r\n",
      "\t\u001b[32mnew file:   .ipynb_checkpoints/notebook1-checkpoint.ipynb\u001b[m\r\n",
      "\t\u001b[32mmodified:   notebook1.ipynb\u001b[m\r\n",
      "\r\n"
     ]
    }
   ],
   "source": [
    "!git status"
   ]
  },
  {
   "cell_type": "code",
   "execution_count": 19,
   "metadata": {},
   "outputs": [
    {
     "name": "stdout",
     "output_type": "stream",
     "text": [
      "[Chapter-1-IPython-Beyond-Normal-Python 3fd71dd] Experiments with ipython\r\n",
      " 2 files changed, 355 insertions(+)\r\n",
      " create mode 100644 Chapter-1-IPython-Beyond-Normal-Python/.ipynb_checkpoints/notebook1-checkpoint.ipynb\r\n"
     ]
    }
   ],
   "source": [
    "!git commit -m \"Experiments with ipython\""
   ]
  },
  {
   "cell_type": "code",
   "execution_count": 20,
   "metadata": {},
   "outputs": [
    {
     "name": "stdout",
     "output_type": "stream",
     "text": [
      "On branch Chapter-1-IPython-Beyond-Normal-Python\n",
      "Your branch is ahead of 'origin/Chapter-1-IPython-Beyond-Normal-Python' by 2 commits.\n",
      "  (use \"git push\" to publish your local commits)\n",
      "\n",
      "Changes not staged for commit:\n",
      "  (use \"git add <file>...\" to update what will be committed)\n",
      "  (use \"git checkout -- <file>...\" to discard changes in working directory)\n",
      "\n",
      "\t\u001b[31mmodified:   notebook1.ipynb\u001b[m\n",
      "\n",
      "no changes added to commit (use \"git add\" and/or \"git commit -a\")\n"
     ]
    }
   ],
   "source": [
    "!git status"
   ]
  },
  {
   "cell_type": "code",
   "execution_count": 21,
   "metadata": {},
   "outputs": [
    {
     "name": "stdout",
     "output_type": "stream",
     "text": [
      "2 µs ± 65.4 ns per loop (mean ± std. dev. of 7 runs, 1000000 loops each)\n"
     ]
    }
   ],
   "source": [
    "%timeit sum(range(100))"
   ]
  },
  {
   "cell_type": "code",
   "execution_count": 22,
   "metadata": {},
   "outputs": [
    {
     "name": "stdout",
     "output_type": "stream",
     "text": [
      "CPU times: user 8 µs, sys: 1e+03 ns, total: 9 µs\n",
      "Wall time: 26 µs\n"
     ]
    },
    {
     "data": {
      "text/plain": [
       "4950"
      ]
     },
     "execution_count": 22,
     "metadata": {},
     "output_type": "execute_result"
    }
   ],
   "source": [
    "%time sum(range(100))"
   ]
  },
  {
   "cell_type": "code",
   "execution_count": 23,
   "metadata": {},
   "outputs": [
    {
     "name": "stderr",
     "output_type": "stream",
     "text": [
      "UsageError: Line magic function `%paste` not found.\n"
     ]
    }
   ],
   "source": [
    "%paste "
   ]
  },
  {
   "cell_type": "code",
   "execution_count": 24,
   "metadata": {},
   "outputs": [],
   "source": [
    "def sum_of_lists(N):\n",
    "    total = 0\n",
    "    for i in range(5):\n",
    "        L = [j ^ (j >> i) for j in range(N)]\n",
    "        total += sum(L)\n",
    "    return total"
   ]
  },
  {
   "cell_type": "code",
   "execution_count": 25,
   "metadata": {},
   "outputs": [],
   "source": [
    "%prun?"
   ]
  },
  {
   "cell_type": "code",
   "execution_count": 27,
   "metadata": {},
   "outputs": [
    {
     "name": "stdout",
     "output_type": "stream",
     "text": [
      " "
     ]
    }
   ],
   "source": [
    "%prun sum_of_lists(100000)"
   ]
  },
  {
   "cell_type": "code",
   "execution_count": 28,
   "metadata": {},
   "outputs": [
    {
     "name": "stderr",
     "output_type": "stream",
     "text": [
      "UsageError: Line magic function `%lprun` not found.\n"
     ]
    }
   ],
   "source": [
    "%lprun sum_of_lists(100000)"
   ]
  },
  {
   "cell_type": "code",
   "execution_count": 29,
   "metadata": {},
   "outputs": [
    {
     "name": "stdout",
     "output_type": "stream",
     "text": [
      "/bin/sh: pip: command not found\r\n"
     ]
    }
   ],
   "source": [
    "!pip install line_profiler"
   ]
  },
  {
   "cell_type": "code",
   "execution_count": 30,
   "metadata": {},
   "outputs": [
    {
     "name": "stdout",
     "output_type": "stream",
     "text": [
      "Collecting line_profiler\n",
      "\u001b[?25l  Downloading https://files.pythonhosted.org/packages/14/fc/ecf4e238bb601ff829068e5a72cd1bd67b0ee0ae379db172eb6a0779c6b6/line_profiler-2.1.2.tar.gz (83kB)\n",
      "\u001b[K    100% |████████████████████████████████| 92kB 3.4MB/s ta 0:00:01\n",
      "\u001b[?25hRequirement already satisfied: IPython>=0.13 in /usr/local/Cellar/ipython/7.8.0/libexec/lib/python3.7/site-packages (from line_profiler) (7.8.0)\n",
      "Requirement already satisfied: setuptools>=18.5 in /Library/Frameworks/Python.framework/Versions/3.7/lib/python3.7/site-packages (from IPython>=0.13->line_profiler) (40.8.0)\n",
      "Requirement already satisfied: jedi>=0.10 in /usr/local/Cellar/ipython/7.8.0/libexec/vendor/lib/python3.7/site-packages (from IPython>=0.13->line_profiler) (0.15.1)\n",
      "Requirement already satisfied: decorator in /usr/local/Cellar/ipython/7.8.0/libexec/vendor/lib/python3.7/site-packages (from IPython>=0.13->line_profiler) (4.4.0)\n",
      "Requirement already satisfied: pickleshare in /usr/local/Cellar/ipython/7.8.0/libexec/vendor/lib/python3.7/site-packages (from IPython>=0.13->line_profiler) (0.7.5)\n",
      "Requirement already satisfied: traitlets>=4.2 in /usr/local/Cellar/ipython/7.8.0/libexec/vendor/lib/python3.7/site-packages (from IPython>=0.13->line_profiler) (4.3.2)\n",
      "Requirement already satisfied: prompt_toolkit<2.1.0,>=2.0.0 in /usr/local/Cellar/ipython/7.8.0/libexec/vendor/lib/python3.7/site-packages (from IPython>=0.13->line_profiler) (2.0.9)\n",
      "Requirement already satisfied: pygments in /usr/local/Cellar/ipython/7.8.0/libexec/vendor/lib/python3.7/site-packages (from IPython>=0.13->line_profiler) (2.4.2)\n",
      "Requirement already satisfied: backcall in /usr/local/Cellar/ipython/7.8.0/libexec/vendor/lib/python3.7/site-packages (from IPython>=0.13->line_profiler) (0.1.0)\n",
      "Requirement already satisfied: appnope in /usr/local/Cellar/ipython/7.8.0/libexec/vendor/lib/python3.7/site-packages (from IPython>=0.13->line_profiler) (0.1.0)\n",
      "Requirement already satisfied: pexpect in /usr/local/Cellar/ipython/7.8.0/libexec/vendor/lib/python3.7/site-packages (from IPython>=0.13->line_profiler) (4.7.0)\n",
      "Requirement already satisfied: parso>=0.5.0 in /usr/local/Cellar/ipython/7.8.0/libexec/vendor/lib/python3.7/site-packages (from jedi>=0.10->IPython>=0.13->line_profiler) (0.5.1)\n",
      "Requirement already satisfied: ipython_genutils in /usr/local/Cellar/ipython/7.8.0/libexec/vendor/lib/python3.7/site-packages (from traitlets>=4.2->IPython>=0.13->line_profiler) (0.2.0)\n",
      "Requirement already satisfied: six in /usr/local/Cellar/ipython/7.8.0/libexec/vendor/lib/python3.7/site-packages (from traitlets>=4.2->IPython>=0.13->line_profiler) (1.12.0)\n",
      "Requirement already satisfied: wcwidth in /usr/local/Cellar/ipython/7.8.0/libexec/vendor/lib/python3.7/site-packages (from prompt_toolkit<2.1.0,>=2.0.0->IPython>=0.13->line_profiler) (0.1.7)\n",
      "Requirement already satisfied: ptyprocess>=0.5 in /usr/local/Cellar/ipython/7.8.0/libexec/vendor/lib/python3.7/site-packages (from pexpect->IPython>=0.13->line_profiler) (0.6.0)\n",
      "Installing collected packages: line-profiler\n",
      "  Running setup.py install for line-profiler ... \u001b[?25lerror\n",
      "    Complete output from command /Library/Frameworks/Python.framework/Versions/3.7/bin/python3.7 -u -c \"import setuptools, tokenize;__file__='/private/var/folders/hc/hxs1sm7s0w9byg1hyvj58h740000gn/T/pip-install-7nwu9dyi/line-profiler/setup.py';f=getattr(tokenize, 'open', open)(__file__);code=f.read().replace('\\r\\n', '\\n');f.close();exec(compile(code, __file__, 'exec'))\" install --record /private/var/folders/hc/hxs1sm7s0w9byg1hyvj58h740000gn/T/pip-record-8ujgww8w/install-record.txt --single-version-externally-managed --compile:\n",
      "    Could not import Cython. Using the available pre-generated C file.\n",
      "    running install\n",
      "    running build\n",
      "    running build_py\n",
      "    creating build\n",
      "    creating build/lib.macosx-10.9-x86_64-3.7\n",
      "    copying line_profiler.py -> build/lib.macosx-10.9-x86_64-3.7\n",
      "    copying kernprof.py -> build/lib.macosx-10.9-x86_64-3.7\n",
      "    copying line_profiler_py35.py -> build/lib.macosx-10.9-x86_64-3.7\n",
      "    running build_ext\n",
      "    building '_line_profiler' extension\n",
      "    creating build/temp.macosx-10.9-x86_64-3.7\n",
      "    gcc -Wno-unused-result -Wsign-compare -Wunreachable-code -fno-common -dynamic -DNDEBUG -g -fwrapv -O3 -Wall -arch x86_64 -g -I/Library/Frameworks/Python.framework/Versions/3.7/include/python3.7m -c _line_profiler.c -o build/temp.macosx-10.9-x86_64-3.7/_line_profiler.o\n",
      "    _line_profiler.c:7890:21: error: no member named 'exc_type' in 'struct _ts'\n",
      "        *type = tstate->exc_type;\n",
      "                ~~~~~~  ^\n",
      "    _line_profiler.c:7891:22: error: no member named 'exc_value' in 'struct _ts'; did you mean 'curexc_value'?\n",
      "        *value = tstate->exc_value;\n",
      "                         ^~~~~~~~~\n",
      "                         curexc_value\n",
      "    /Library/Frameworks/Python.framework/Versions/3.7/include/python3.7m/pystate.h:240:15: note: 'curexc_value' declared here\n",
      "        PyObject *curexc_value;\n",
      "                  ^\n",
      "    _line_profiler.c:7892:19: error: no member named 'exc_traceback' in 'struct _ts'; did you mean 'curexc_traceback'?\n",
      "        *tb = tstate->exc_traceback;\n",
      "                      ^~~~~~~~~~~~~\n",
      "                      curexc_traceback\n",
      "    /Library/Frameworks/Python.framework/Versions/3.7/include/python3.7m/pystate.h:241:15: note: 'curexc_traceback' declared here\n",
      "        PyObject *curexc_traceback;\n",
      "                  ^\n",
      "    _line_profiler.c:7899:24: error: no member named 'exc_type' in 'struct _ts'\n",
      "        tmp_type = tstate->exc_type;\n",
      "                   ~~~~~~  ^\n",
      "    _line_profiler.c:7900:25: error: no member named 'exc_value' in 'struct _ts'; did you mean 'curexc_value'?\n",
      "        tmp_value = tstate->exc_value;\n",
      "                            ^~~~~~~~~\n",
      "                            curexc_value\n",
      "    /Library/Frameworks/Python.framework/Versions/3.7/include/python3.7m/pystate.h:240:15: note: 'curexc_value' declared here\n",
      "        PyObject *curexc_value;\n",
      "                  ^\n",
      "    _line_profiler.c:7901:22: error: no member named 'exc_traceback' in 'struct _ts'; did you mean 'curexc_traceback'?\n",
      "        tmp_tb = tstate->exc_traceback;\n",
      "                         ^~~~~~~~~~~~~\n",
      "                         curexc_traceback\n",
      "    /Library/Frameworks/Python.framework/Versions/3.7/include/python3.7m/pystate.h:241:15: note: 'curexc_traceback' declared here\n",
      "        PyObject *curexc_traceback;\n",
      "                  ^\n",
      "    _line_profiler.c:7902:13: error: no member named 'exc_type' in 'struct _ts'\n",
      "        tstate->exc_type = type;\n",
      "        ~~~~~~  ^\n",
      "    _line_profiler.c:7903:13: error: no member named 'exc_value' in 'struct _ts'; did you mean 'curexc_value'?\n",
      "        tstate->exc_value = value;\n",
      "                ^~~~~~~~~\n",
      "                curexc_value\n",
      "    /Library/Frameworks/Python.framework/Versions/3.7/include/python3.7m/pystate.h:240:15: note: 'curexc_value' declared here\n",
      "        PyObject *curexc_value;\n",
      "                  ^\n",
      "    _line_profiler.c:7904:13: error: no member named 'exc_traceback' in 'struct _ts'; did you mean 'curexc_traceback'?\n",
      "        tstate->exc_traceback = tb;\n",
      "                ^~~~~~~~~~~~~\n",
      "                curexc_traceback\n",
      "    /Library/Frameworks/Python.framework/Versions/3.7/include/python3.7m/pystate.h:241:15: note: 'curexc_traceback' declared here\n",
      "        PyObject *curexc_traceback;\n",
      "                  ^\n",
      "    _line_profiler.c:7959:24: error: no member named 'exc_type' in 'struct _ts'\n",
      "        tmp_type = tstate->exc_type;\n",
      "                   ~~~~~~  ^\n",
      "    _line_profiler.c:7960:25: error: no member named 'exc_value' in 'struct _ts'; did you mean 'curexc_value'?\n",
      "        tmp_value = tstate->exc_value;\n",
      "                            ^~~~~~~~~\n",
      "                            curexc_value\n",
      "    /Library/Frameworks/Python.framework/Versions/3.7/include/python3.7m/pystate.h:240:15: note: 'curexc_value' declared here\n",
      "        PyObject *curexc_value;\n",
      "                  ^\n",
      "    _line_profiler.c:7961:22: error: no member named 'exc_traceback' in 'struct _ts'; did you mean 'curexc_traceback'?\n",
      "        tmp_tb = tstate->exc_traceback;\n",
      "                         ^~~~~~~~~~~~~\n",
      "                         curexc_traceback\n",
      "    /Library/Frameworks/Python.framework/Versions/3.7/include/python3.7m/pystate.h:241:15: note: 'curexc_traceback' declared here\n",
      "        PyObject *curexc_traceback;\n",
      "                  ^\n",
      "    _line_profiler.c:7962:13: error: no member named 'exc_type' in 'struct _ts'\n",
      "        tstate->exc_type = local_type;\n",
      "        ~~~~~~  ^\n",
      "    _line_profiler.c:7963:13: error: no member named 'exc_value' in 'struct _ts'; did you mean 'curexc_value'?\n",
      "        tstate->exc_value = local_value;\n",
      "                ^~~~~~~~~\n",
      "                curexc_value\n",
      "    /Library/Frameworks/Python.framework/Versions/3.7/include/python3.7m/pystate.h:240:15: note: 'curexc_value' declared here\n",
      "        PyObject *curexc_value;\n",
      "                  ^\n",
      "    _line_profiler.c:7964:13: error: no member named 'exc_traceback' in 'struct _ts'; did you mean 'curexc_traceback'?\n",
      "        tstate->exc_traceback = local_tb;\n",
      "                ^~~~~~~~~~~~~\n",
      "                curexc_traceback\n",
      "    /Library/Frameworks/Python.framework/Versions/3.7/include/python3.7m/pystate.h:241:15: note: 'curexc_traceback' declared here\n",
      "        PyObject *curexc_traceback;\n",
      "                  ^\n",
      "    15 errors generated.\n",
      "    error: command 'gcc' failed with exit status 1\n",
      "    \n",
      "    ----------------------------------------\n",
      "\u001b[31mCommand \"/Library/Frameworks/Python.framework/Versions/3.7/bin/python3.7 -u -c \"import setuptools, tokenize;__file__='/private/var/folders/hc/hxs1sm7s0w9byg1hyvj58h740000gn/T/pip-install-7nwu9dyi/line-profiler/setup.py';f=getattr(tokenize, 'open', open)(__file__);code=f.read().replace('\\r\\n', '\\n');f.close();exec(compile(code, __file__, 'exec'))\" install --record /private/var/folders/hc/hxs1sm7s0w9byg1hyvj58h740000gn/T/pip-record-8ujgww8w/install-record.txt --single-version-externally-managed --compile\" failed with error code 1 in /private/var/folders/hc/hxs1sm7s0w9byg1hyvj58h740000gn/T/pip-install-7nwu9dyi/line-profiler/\u001b[0m\n"
     ]
    },
    {
     "name": "stdout",
     "output_type": "stream",
     "text": [
      "\u001b[33mYou are using pip version 19.0.3, however version 19.2.3 is available.\r\n",
      "You should consider upgrading via the 'pip install --upgrade pip' command.\u001b[0m\r\n",
      "\u001b[?25h"
     ]
    }
   ],
   "source": [
    "!pip3 install line_profiler"
   ]
  },
  {
   "cell_type": "code",
   "execution_count": null,
   "metadata": {},
   "outputs": [],
   "source": []
  }
 ],
 "metadata": {
  "kernelspec": {
   "display_name": "Python 3",
   "language": "python",
   "name": "python3"
  },
  "language_info": {
   "codemirror_mode": {
    "name": "ipython",
    "version": 3
   },
   "file_extension": ".py",
   "mimetype": "text/x-python",
   "name": "python",
   "nbconvert_exporter": "python",
   "pygments_lexer": "ipython3",
   "version": "3.7.4"
  }
 },
 "nbformat": 4,
 "nbformat_minor": 2
}
